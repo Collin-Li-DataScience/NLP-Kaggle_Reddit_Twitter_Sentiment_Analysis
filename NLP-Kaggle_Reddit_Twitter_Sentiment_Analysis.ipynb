{
 "cells": [
  {
   "cell_type": "markdown",
   "metadata": {
    "id": "FJsHZBKJer9a"
   },
   "source": [
    "# Kaggle: NLP-based Sentiment Analysis for Data from Twitter and Reddit\n",
    "**Tweets and Comments extracted from Twitter and Reddit For Sentimental Analysis**     \n",
    "https://www.kaggle.com/cosmos98/twitter-and-reddit-sentimental-analysis-dataset?select=Twitter_Data.csv\n",
    "\n",
    "The 3 approaches used follow the timeline of when methods were created:         \n",
    "1. Count-based methods like CountVectorizer and TFIDF Vectorizer\n",
    "2. Long short-term memory (LSTM) using word embeddings - recurrent neural network (RNN) architecture\n",
    "3. Transformer-based method using the library Hugginface\n",
    "- Compared results and defined use cases respectively at the end"
   ]
  },
  {
   "cell_type": "markdown",
   "metadata": {},
   "source": [
    "## Data Preprocessing: train, validation, test"
   ]
  },
  {
   "cell_type": "code",
   "execution_count": 58,
   "metadata": {
    "ExecuteTime": {
     "end_time": "2020-11-21T20:23:01.875702Z",
     "start_time": "2020-11-21T20:23:01.461650Z"
    },
    "id": "k6FZXhoCer9a"
   },
   "outputs": [],
   "source": [
    "import pandas as pd\n",
    "\n",
    "twitter_df = pd.read_csv('/Users/mucongl/Downloads/data/UCLA_ML/hw4_NLP_text/Twitter_Data_Sample.csv').dropna()\n",
    "reddit_df = pd.read_csv('/Users/mucongl/Downloads/data/UCLA_ML/hw4_NLP_text/Reddit_Data.csv').dropna()\n",
    "\n",
    "X_twitter = twitter_df['clean_text']\n",
    "y_twitter = twitter_df['category'] + 1 \n",
    "\n",
    "# Sum 1 so the categories are not negative\n",
    "# Now Negative is 0, Neutral is 1 and Positive is 2\n",
    "\n",
    "X_reddit = reddit_df['clean_comment']\n",
    "y_reddit = reddit_df['category'] + 1\n"
   ]
  },
  {
   "cell_type": "code",
   "execution_count": 59,
   "metadata": {
    "ExecuteTime": {
     "end_time": "2020-11-21T20:23:02.004166Z",
     "start_time": "2020-11-21T20:23:01.963021Z"
    },
    "id": "X51ADqnAer9a"
   },
   "outputs": [],
   "source": [
    "X_train_tweet, y_train_tweet, X_test_tweet, y_test_tweet, X_val_tweet, y_val_tweet = get_train_val_test(X_twitter, y_twitter, split=0.2)"
   ]
  },
  {
   "cell_type": "code",
   "execution_count": 60,
   "metadata": {
    "ExecuteTime": {
     "end_time": "2020-11-21T20:23:02.372312Z",
     "start_time": "2020-11-21T20:23:02.361681Z"
    },
    "id": "MTl_h9nler9a"
   },
   "outputs": [],
   "source": [
    "X_train_reddit, y_train_reddit, X_test_reddit, y_test_reddit, X_val_reddit, y_val_reddit = get_train_val_test(X_reddit, y_reddit, split=0.2)"
   ]
  },
  {
   "cell_type": "markdown",
   "metadata": {
    "id": "vkgXFabOer9a"
   },
   "source": [
    "## Approach 1: using count-based methods to represent text documents.\n",
    "\n",
    "- The 1st one will be using [CountVectorizer](https://scikit-learn.org/stable/modules/generated/sklearn.feature_extraction.text.CountVectorizer.html) \n",
    "- The 2nd one will be using the [TF-IDF Vectorizer](https://scikit-learn.org/stable/modules/generated/sklearn.feature_extraction.text.TfidfVectorizer.html#sklearn.feature_extraction.text.TfidfVectorizer)"
   ]
  },
  {
   "cell_type": "code",
   "execution_count": 77,
   "metadata": {
    "ExecuteTime": {
     "end_time": "2020-11-21T19:32:15.912647Z",
     "start_time": "2020-11-21T19:32:11.866091Z"
    },
    "id": "uFTzRABAer9a"
   },
   "outputs": [],
   "source": [
    "from sklearn.feature_extraction.text import CountVectorizer\n",
    "from sklearn.feature_extraction.text import TfidfVectorizer\n",
    "import nltk\n",
    "\n",
    "tfidf_vectorizer = TfidfVectorizer()\n",
    "count_vectorizer = CountVectorizer()"
   ]
  },
  {
   "cell_type": "markdown",
   "metadata": {},
   "source": [
    "### Twitter - model 1: TFIDF"
   ]
  },
  {
   "cell_type": "code",
   "execution_count": 78,
   "metadata": {},
   "outputs": [],
   "source": [
    "tfidf_vectorizer.fit(X_train_tweet)\n",
    "\n",
    "X_train_tweet_tfidf = tfidf_vectorizer.transform(X_train_tweet)\n",
    "X_test_tweet_tfidf  = tfidf_vectorizer.transform(X_test_tweet)\n",
    "X_val_tweet_tfidf   = tfidf_vectorizer.transform(X_val_tweet)"
   ]
  },
  {
   "cell_type": "code",
   "execution_count": 79,
   "metadata": {},
   "outputs": [
    {
     "data": {
      "text/plain": [
       "(34125, 41045)"
      ]
     },
     "execution_count": 79,
     "metadata": {},
     "output_type": "execute_result"
    }
   ],
   "source": [
    "X_train_tweet_tfidf.shape"
   ]
  },
  {
   "cell_type": "code",
   "execution_count": 87,
   "metadata": {},
   "outputs": [
    {
     "name": "stdout",
     "output_type": "stream",
     "text": [
      "              precision    recall  f1-score   support\n",
      "\n",
      "           0       0.93      0.84      0.88       961\n",
      "           1       0.91      0.99      0.95      1480\n",
      "           2       0.94      0.92      0.93      1825\n",
      "\n",
      "    accuracy                           0.93      4266\n",
      "   macro avg       0.93      0.92      0.92      4266\n",
      "weighted avg       0.93      0.93      0.93      4266\n",
      "\n"
     ]
    },
    {
     "name": "stderr",
     "output_type": "stream",
     "text": [
      "/Users/mucongl/anaconda3/lib/python3.8/site-packages/sklearn/linear_model/_sag.py:329: ConvergenceWarning: The max_iter was reached which means the coef_ did not converge\n",
      "  warnings.warn(\"The max_iter was reached which means \"\n"
     ]
    }
   ],
   "source": [
    "from sklearn.linear_model import LogisticRegression\n",
    "\n",
    "clf = LogisticRegression(penalty='l1', solver='saga')\n",
    "\n",
    "clf.fit(X_train_tweet_tfidf, y_train_tweet)\n",
    "\n",
    "y_pred = clf.predict(X_val_tweet_tfidf)\n",
    "print(classification_report(y_val_tweet, y_pred))"
   ]
  },
  {
   "cell_type": "code",
   "execution_count": 88,
   "metadata": {},
   "outputs": [
    {
     "name": "stdout",
     "output_type": "stream",
     "text": [
      "              precision    recall  f1-score   support\n",
      "\n",
      "           0       0.84      0.77      0.80       968\n",
      "           1       0.81      0.91      0.86      1490\n",
      "           2       0.90      0.85      0.87      1808\n",
      "\n",
      "    accuracy                           0.85      4266\n",
      "   macro avg       0.85      0.84      0.84      4266\n",
      "weighted avg       0.85      0.85      0.85      4266\n",
      "\n"
     ]
    }
   ],
   "source": [
    "y_pred = clf.predict(X_test_tweet_count)\n",
    "print(classification_report(y_test_tweet, y_pred))"
   ]
  },
  {
   "cell_type": "markdown",
   "metadata": {
    "ExecuteTime": {
     "end_time": "2020-11-21T19:32:39.183175Z",
     "start_time": "2020-11-21T19:32:38.439692Z"
    },
    "id": "8tHVKO-Fer9a"
   },
   "source": [
    "### Twitter - model 2: CountVectorizer"
   ]
  },
  {
   "cell_type": "code",
   "execution_count": 81,
   "metadata": {},
   "outputs": [],
   "source": [
    "count_vectorizer.fit(X_train_tweet)\n",
    "\n",
    "X_train_tweet_conunt = count_vectorizer.transform(X_train_tweet)\n",
    "X_test_tweet_count   = count_vectorizer.transform(X_test_tweet)\n",
    "X_val_tweet_count    = count_vectorizer.transform(X_val_tweet)"
   ]
  },
  {
   "cell_type": "code",
   "execution_count": 82,
   "metadata": {},
   "outputs": [
    {
     "data": {
      "text/plain": [
       "(34125, 41045)"
      ]
     },
     "execution_count": 82,
     "metadata": {},
     "output_type": "execute_result"
    }
   ],
   "source": [
    "X_train_tweet_conunt.shape"
   ]
  },
  {
   "cell_type": "code",
   "execution_count": 83,
   "metadata": {},
   "outputs": [
    {
     "name": "stdout",
     "output_type": "stream",
     "text": [
      "              precision    recall  f1-score   support\n",
      "\n",
      "           0       0.91      0.83      0.87       961\n",
      "           1       0.91      0.98      0.95      1480\n",
      "           2       0.94      0.92      0.93      1825\n",
      "\n",
      "    accuracy                           0.92      4266\n",
      "   macro avg       0.92      0.91      0.92      4266\n",
      "weighted avg       0.92      0.92      0.92      4266\n",
      "\n"
     ]
    },
    {
     "name": "stderr",
     "output_type": "stream",
     "text": [
      "/Users/mucongl/anaconda3/lib/python3.8/site-packages/sklearn/linear_model/_sag.py:329: ConvergenceWarning: The max_iter was reached which means the coef_ did not converge\n",
      "  warnings.warn(\"The max_iter was reached which means \"\n"
     ]
    }
   ],
   "source": [
    "clf = LogisticRegression(penalty='l1', solver='saga')\n",
    "\n",
    "clf.fit(X_train_tweet_conunt, y_train_tweet)\n",
    "\n",
    "y_pred = clf.predict(X_val_tweet_count)\n",
    "print(classification_report(y_val_tweet, y_pred))"
   ]
  },
  {
   "cell_type": "code",
   "execution_count": 86,
   "metadata": {},
   "outputs": [
    {
     "name": "stdout",
     "output_type": "stream",
     "text": [
      "              precision    recall  f1-score   support\n",
      "\n",
      "           0       0.91      0.85      0.88       968\n",
      "           1       0.93      0.97      0.95      1490\n",
      "           2       0.93      0.93      0.93      1808\n",
      "\n",
      "    accuracy                           0.93      4266\n",
      "   macro avg       0.92      0.92      0.92      4266\n",
      "weighted avg       0.92      0.93      0.92      4266\n",
      "\n"
     ]
    }
   ],
   "source": [
    "y_pred = clf.predict(X_test_tweet_count)\n",
    "print(classification_report(y_test_tweet, y_pred))"
   ]
  },
  {
   "cell_type": "markdown",
   "metadata": {
    "ExecuteTime": {
     "end_time": "2020-11-21T19:32:55.790588Z",
     "start_time": "2020-11-21T19:32:55.663006Z"
    },
    "id": "m5bbdGGHer9a"
   },
   "source": [
    "### Reddit - model 1: TFIDF"
   ]
  },
  {
   "cell_type": "code",
   "execution_count": 84,
   "metadata": {},
   "outputs": [],
   "source": [
    "tfidf_vectorizer.fit(X_train_reddit)\n",
    "\n",
    "X_train_reddit_tfidf = tfidf_vectorizer.transform(X_train_reddit)\n",
    "X_test_reddit_tfidf  = tfidf_vectorizer.transform(X_test_reddit)\n",
    "X_val_reddit_tfidf   = tfidf_vectorizer.transform(X_val_reddit)"
   ]
  },
  {
   "cell_type": "code",
   "execution_count": 85,
   "metadata": {},
   "outputs": [
    {
     "data": {
      "text/plain": [
       "(29719, 46770)"
      ]
     },
     "execution_count": 85,
     "metadata": {},
     "output_type": "execute_result"
    }
   ],
   "source": [
    "X_train_reddit_tfidf.shape"
   ]
  },
  {
   "cell_type": "code",
   "execution_count": 90,
   "metadata": {},
   "outputs": [
    {
     "name": "stdout",
     "output_type": "stream",
     "text": [
      "              precision    recall  f1-score   support\n",
      "\n",
      "           0       0.91      0.82      0.86       806\n",
      "           1       0.92      0.98      0.95      1321\n",
      "           2       0.93      0.92      0.92      1588\n",
      "\n",
      "    accuracy                           0.92      3715\n",
      "   macro avg       0.92      0.91      0.91      3715\n",
      "weighted avg       0.92      0.92      0.92      3715\n",
      "\n"
     ]
    },
    {
     "name": "stderr",
     "output_type": "stream",
     "text": [
      "/Users/mucongl/anaconda3/lib/python3.8/site-packages/sklearn/linear_model/_sag.py:329: ConvergenceWarning: The max_iter was reached which means the coef_ did not converge\n",
      "  warnings.warn(\"The max_iter was reached which means \"\n"
     ]
    }
   ],
   "source": [
    "clf = LogisticRegression(penalty='l1', solver='saga')\n",
    "\n",
    "clf.fit(X_train_reddit_tfidf, y_train_reddit)\n",
    "\n",
    "y_pred = clf.predict(X_val_reddit_tfidf)\n",
    "print(classification_report(y_val_reddit, y_pred))"
   ]
  },
  {
   "cell_type": "code",
   "execution_count": 91,
   "metadata": {},
   "outputs": [
    {
     "name": "stdout",
     "output_type": "stream",
     "text": [
      "              precision    recall  f1-score   support\n",
      "\n",
      "           0       0.91      0.80      0.85       791\n",
      "           1       0.91      0.99      0.94      1333\n",
      "           2       0.94      0.93      0.93      1591\n",
      "\n",
      "    accuracy                           0.92      3715\n",
      "   macro avg       0.92      0.90      0.91      3715\n",
      "weighted avg       0.92      0.92      0.92      3715\n",
      "\n"
     ]
    }
   ],
   "source": [
    "y_pred = clf.predict(X_test_reddit_tfidf)\n",
    "print(classification_report(y_test_reddit, y_pred))"
   ]
  },
  {
   "cell_type": "markdown",
   "metadata": {},
   "source": [
    "### Reddit - model 2: CountVectorizer"
   ]
  },
  {
   "cell_type": "code",
   "execution_count": 92,
   "metadata": {},
   "outputs": [
    {
     "name": "stdout",
     "output_type": "stream",
     "text": [
      "(29719, 46770)\n",
      "              precision    recall  f1-score   support\n",
      "\n",
      "           0       0.79      0.61      0.69       806\n",
      "           1       0.79      0.92      0.85      1321\n",
      "           2       0.84      0.82      0.83      1588\n",
      "\n",
      "    accuracy                           0.81      3715\n",
      "   macro avg       0.81      0.78      0.79      3715\n",
      "weighted avg       0.81      0.81      0.81      3715\n",
      "\n",
      "              precision    recall  f1-score   support\n",
      "\n",
      "           0       0.80      0.58      0.67       791\n",
      "           1       0.78      0.94      0.85      1333\n",
      "           2       0.85      0.82      0.84      1591\n",
      "\n",
      "    accuracy                           0.81      3715\n",
      "   macro avg       0.81      0.78      0.79      3715\n",
      "weighted avg       0.81      0.81      0.81      3715\n",
      "\n"
     ]
    },
    {
     "name": "stderr",
     "output_type": "stream",
     "text": [
      "/Users/mucongl/anaconda3/lib/python3.8/site-packages/sklearn/linear_model/_sag.py:329: ConvergenceWarning: The max_iter was reached which means the coef_ did not converge\n",
      "  warnings.warn(\"The max_iter was reached which means \"\n"
     ]
    }
   ],
   "source": [
    "count_vectorizer.fit(X_train_reddit)\n",
    "\n",
    "X_train_reddit_conunt = count_vectorizer.transform(X_train_reddit)\n",
    "X_test_reddit_count   = count_vectorizer.transform(X_test_reddit)\n",
    "X_val_reddit_count    = count_vectorizer.transform(X_val_reddit)\n",
    "\n",
    "print(X_train_reddit_conunt.shape)\n",
    "\n",
    "clf = LogisticRegression(penalty='l1', solver='saga')\n",
    "\n",
    "clf.fit(X_train_reddit_conunt, y_train_reddit)\n",
    "\n",
    "y_pred = clf.predict(X_val_reddit_count)\n",
    "print(classification_report(y_val_reddit, y_pred))\n",
    "\n",
    "y_pred = clf.predict(X_test_reddit_count)\n",
    "print(classification_report(y_test_reddit, y_pred))"
   ]
  },
  {
   "cell_type": "markdown",
   "metadata": {},
   "source": [
    "### Conclusion - Approach 1:\n",
    "**Difference between the two models? Which one is better and why?**\n",
    "- The CountVectorizer converts the text documents to a matrix of token counts, which record the number of time that certain word appears\n",
    "- The TfidfVectorizer converts the text documents to a matrix of TF-IDF features, which record the number of time that certain word appears, but normalized by total times that it appears in the document, and this makes word such as ‘the’, ‘a’, ‘and’ less important for the model\n",
    "- For Reddit, TFIDF is better\n",
    "- For Twitter, Count is better\n",
    "- This is actually NOT what I expected as I thought TFIDF would be better in all scenarios. \n",
    "- After thinking about it, I think this happens because:\n",
    "- On Twitter, many people post similar contents on the same topic. If a certain topic has a strong emotion and sentiment associated with it, more people are going to discuss it. Thus, the count of appearance of words can be a strong indicator or the sentiment.\n",
    "- On the other hand, Reddit is a forum. People are more likely to discuss certain issue under one post/thread. If someone has said something, other people are not very likely to repeat similar thing. TFIDF can effectively eliminate the common words and emphasize the valuable words, and it is more effective here."
   ]
  },
  {
   "cell_type": "markdown",
   "metadata": {
    "id": "oC1sXAKeer9a"
   },
   "source": [
    "## Approach 2: LSTM Model on Reddit data (Deep Learning)"
   ]
  },
  {
   "cell_type": "markdown",
   "metadata": {},
   "source": [
    "#### 1st step: Compute the Vocabulary size for the reddit dataset."
   ]
  },
  {
   "cell_type": "code",
   "execution_count": 93,
   "metadata": {
    "ExecuteTime": {
     "end_time": "2020-11-21T20:14:01.810886Z",
     "start_time": "2020-11-21T20:14:00.981382Z"
    },
    "id": "wFkD6q2wer9a"
   },
   "outputs": [
    {
     "name": "stdout",
     "output_type": "stream",
     "text": [
      "Reddit's Vocabulary size is 48143\n"
     ]
    }
   ],
   "source": [
    "reddit_vocabulary_size = len(set([tok for s in X_train_reddit.values.tolist() for tok in s.split()]))\n",
    "\n",
    "print(f\"Reddit's Vocabulary size is {reddit_vocabulary_size}\")"
   ]
  },
  {
   "cell_type": "markdown",
   "metadata": {
    "id": "pAH55pj6er9a"
   },
   "source": [
    "#### 2nd step: preprocess\n",
    "- To use it on Keras, first need to change the words to numeric values. \n",
    "- Also need to make all the sentences to be the same size for the matrix computations. To do that, I select a length to the text:\n",
    "    - If the text is shorter than the length, pad it with zeros until it is has the correct size. The model will learn that zeros mean padding and will ignore it. \n",
    "    - If the text is longer than the length, just discard the extra words."
   ]
  },
  {
   "cell_type": "code",
   "execution_count": 94,
   "metadata": {
    "ExecuteTime": {
     "end_time": "2020-11-21T20:14:02.160041Z",
     "start_time": "2020-11-21T20:14:02.129681Z"
    },
    "id": "WOtV_iWaer9a"
   },
   "outputs": [],
   "source": [
    "from keras.preprocessing.text import one_hot\n",
    "from keras.preprocessing import sequence\n",
    "\n",
    "OOV_BUCKETS = 10\n",
    "TEXT_LENGTH = 100\n",
    "\n",
    "# Creates sequences for twitter_data and reddit_data\n",
    "def converts_text_to_padded_sequences(X, vocabulary_size, oov=OOV_BUCKETS, max_review_length=TEXT_LENGTH):\n",
    "    number_sequences =  [one_hot(sentence, vocabulary_size + oov ) for sentence in X.values.tolist()]\n",
    "    padded_sequences = sequence.pad_sequences(number_sequences, maxlen=max_review_length)\n",
    "\n",
    "    return padded_sequences\n",
    "\n",
    "reddit_train_dl = converts_text_to_padded_sequences(X_train_reddit, reddit_vocabulary_size)\n",
    "reddit_test_dl = converts_text_to_padded_sequences(X_test_reddit, reddit_vocabulary_size)\n",
    "reddit_val_dl = converts_text_to_padded_sequences(X_val_reddit, reddit_vocabulary_size)\n",
    "\n",
    "# Train, validation and test splits preprocessed for the Reddit data"
   ]
  },
  {
   "cell_type": "markdown",
   "metadata": {
    "id": "6rkPkjtTer9a"
   },
   "source": [
    "#### 3rd step: modeling\n",
    "- The code below will train a one layer LSTM on the Reddit data. \n",
    "- It will create n embeddings, being n the vocabulary size. \n",
    "- It means that each word will have their own embedding and the model will learn how to represent the words as it learns to perfom the task."
   ]
  },
  {
   "attachments": {},
   "cell_type": "markdown",
   "metadata": {},
   "source": [
    "#### To improve modeling result (done in 2nd and 3rd try below)\n",
    "- dropout\n",
    "- batch normalization\n",
    "- changing the activation functions.\n",
    "- More complex:\n",
    "    - different optmizers \n",
    "    - learning rate schedulers \n",
    "    \n",
    "- Embedding size and batch size"
   ]
  },
  {
   "cell_type": "code",
   "execution_count": 95,
   "metadata": {
    "ExecuteTime": {
     "end_time": "2020-11-21T19:43:38.142031Z",
     "start_time": "2020-11-21T19:43:16.104270Z"
    },
    "id": "s6gdMQv7er9a"
   },
   "outputs": [
    {
     "name": "stdout",
     "output_type": "stream",
     "text": [
      "Model: \"sequential\"\n",
      "_________________________________________________________________\n",
      "Layer (type)                 Output Shape              Param #   \n",
      "=================================================================\n",
      "embedding (Embedding)        (None, 100, 30)           1444590   \n",
      "_________________________________________________________________\n",
      "lstm (LSTM)                  (None, 100)               52400     \n",
      "_________________________________________________________________\n",
      "dense (Dense)                (None, 3)                 303       \n",
      "=================================================================\n",
      "Total params: 1,497,293\n",
      "Trainable params: 1,497,293\n",
      "Non-trainable params: 0\n",
      "_________________________________________________________________\n",
      "None\n",
      "Epoch 1/20\n",
      "30/30 [==============================] - 10s 303ms/step - loss: 1.0537 - accuracy: 0.4803 - val_loss: 0.9123 - val_accuracy: 0.5750\n",
      "\n",
      "Epoch 00001: val_loss improved from inf to 0.91226, saving model to best_weights_reddit.hdf5\n",
      "Epoch 2/20\n",
      "30/30 [==============================] - 9s 289ms/step - loss: 0.8910 - accuracy: 0.5829 - val_loss: 0.8565 - val_accuracy: 0.5992\n",
      "\n",
      "Epoch 00002: val_loss improved from 0.91226 to 0.85652, saving model to best_weights_reddit.hdf5\n",
      "Epoch 3/20\n",
      "30/30 [==============================] - 9s 296ms/step - loss: 0.8057 - accuracy: 0.6251 - val_loss: 0.7514 - val_accuracy: 0.6476\n",
      "\n",
      "Epoch 00003: val_loss improved from 0.85652 to 0.75141, saving model to best_weights_reddit.hdf5\n",
      "Epoch 4/20\n",
      "30/30 [==============================] - 9s 293ms/step - loss: 0.5972 - accuracy: 0.7340 - val_loss: 0.6528 - val_accuracy: 0.7454\n",
      "\n",
      "Epoch 00004: val_loss improved from 0.75141 to 0.65283, saving model to best_weights_reddit.hdf5\n",
      "Epoch 5/20\n",
      "30/30 [==============================] - 9s 299ms/step - loss: 0.3764 - accuracy: 0.8725 - val_loss: 0.5103 - val_accuracy: 0.8202\n",
      "\n",
      "Epoch 00005: val_loss improved from 0.65283 to 0.51028, saving model to best_weights_reddit.hdf5\n",
      "Epoch 6/20\n",
      "30/30 [==============================] - 9s 304ms/step - loss: 0.2191 - accuracy: 0.9299 - val_loss: 0.5270 - val_accuracy: 0.8266\n",
      "\n",
      "Epoch 00006: val_loss did not improve from 0.51028\n",
      "Epoch 7/20\n",
      "30/30 [==============================] - 10s 320ms/step - loss: 0.1721 - accuracy: 0.9533 - val_loss: 0.5349 - val_accuracy: 0.8280\n",
      "\n",
      "Epoch 00007: val_loss did not improve from 0.51028\n",
      "Epoch 8/20\n",
      "30/30 [==============================] - 10s 322ms/step - loss: 0.1206 - accuracy: 0.9673 - val_loss: 0.5373 - val_accuracy: 0.8369\n",
      "\n",
      "Epoch 00008: val_loss did not improve from 0.51028\n",
      "Epoch 9/20\n",
      "30/30 [==============================] - 10s 324ms/step - loss: 0.0936 - accuracy: 0.9772 - val_loss: 0.5670 - val_accuracy: 0.8326\n",
      "\n",
      "Epoch 00009: val_loss did not improve from 0.51028\n",
      "Epoch 10/20\n",
      "30/30 [==============================] - 10s 320ms/step - loss: 0.0855 - accuracy: 0.9804 - val_loss: 0.5764 - val_accuracy: 0.8361\n",
      "\n",
      "Epoch 00010: val_loss did not improve from 0.51028\n",
      "Epoch 11/20\n",
      "30/30 [==============================] - 9s 306ms/step - loss: 0.0645 - accuracy: 0.9849 - val_loss: 0.6169 - val_accuracy: 0.8310\n",
      "\n",
      "Epoch 00011: val_loss did not improve from 0.51028\n",
      "Epoch 12/20\n",
      "30/30 [==============================] - 10s 320ms/step - loss: 0.0531 - accuracy: 0.9884 - val_loss: 0.6358 - val_accuracy: 0.8455\n",
      "\n",
      "Epoch 00012: val_loss did not improve from 0.51028\n",
      "Epoch 13/20\n",
      "30/30 [==============================] - 9s 315ms/step - loss: 0.0601 - accuracy: 0.9866 - val_loss: 0.6293 - val_accuracy: 0.8455\n",
      "\n",
      "Epoch 00013: val_loss did not improve from 0.51028\n",
      "Epoch 14/20\n",
      "30/30 [==============================] - 9s 316ms/step - loss: 0.0422 - accuracy: 0.9904 - val_loss: 0.6875 - val_accuracy: 0.8420\n",
      "\n",
      "Epoch 00014: val_loss did not improve from 0.51028\n",
      "Epoch 15/20\n",
      "30/30 [==============================] - 9s 316ms/step - loss: 0.0358 - accuracy: 0.9929 - val_loss: 0.7231 - val_accuracy: 0.8237\n",
      "\n",
      "Epoch 00015: val_loss did not improve from 0.51028\n"
     ]
    }
   ],
   "source": [
    "import numpy\n",
    "import keras\n",
    "from keras.models import Sequential\n",
    "from keras.layers import Dense, LSTM\n",
    "from keras.layers.embeddings import Embedding\n",
    "from keras.preprocessing import sequence\n",
    "# fix random seed for reproducibility\n",
    "numpy.random.seed(7)\n",
    "\n",
    "# load the dataset but only keep the top n words, zero the rest\n",
    "my_callbacks = [\n",
    "    keras.callbacks.EarlyStopping(patience=10),\n",
    "    keras.callbacks.ModelCheckpoint(filepath=\"best_weights_reddit.hdf5\", verbose=1, save_best_only=True),\n",
    "]\n",
    "\n",
    "\n",
    "def train_model(X_train, y_train, X_val, y_val, embedding_size, vocabulary_size, text_length, epochs, batch_size):\n",
    "    # TODO:\n",
    "    # edit this part of the code to change the parameters to improve the results.\n",
    "    # methods: see above markdown cell\n",
    "    \n",
    "    model = Sequential()\n",
    "    model.add(Embedding(vocabulary_size, embedding_size, input_length=text_length)) \n",
    "    # Create embeddings for each word in our vocabulary\n",
    "    model.add(LSTM(100)) \n",
    "    # One layer of LSTM with 100 hidden units\n",
    "    model.add(Dense(3, activation='softmax')) \n",
    "    # Output softmax for the 3 classes, Negative, Neutral and Positive\n",
    "    model.compile(loss='sparse_categorical_crossentropy', optimizer='adam', metrics=['accuracy'])\n",
    "    print(model.summary())\n",
    "    history = model.fit(X_train, y_train, epochs=epochs, batch_size=batch_size, validation_data=(X_val, y_val), callbacks=my_callbacks)\n",
    "    \n",
    "\n",
    "    return model, history\n",
    "  \n",
    "# Train the model by passing the reddit data and parameters related to reddit.\n",
    "# TODO: edit embedding size and batch size to increase accuracy\n",
    "reddit_model, reddit_history = train_model(reddit_train_dl, y_train_reddit, reddit_val_dl, y_val_reddit, \n",
    "                             embedding_size=30, vocabulary_size=reddit_vocabulary_size+OOV_BUCKETS, \n",
    "                             text_length= TEXT_LENGTH, epochs=20, batch_size=1024)\n",
    "\n",
    "\n",
    "\n",
    "reddit_model.load_weights('best_weights_reddit.hdf5')"
   ]
  },
  {
   "cell_type": "code",
   "execution_count": 96,
   "metadata": {
    "ExecuteTime": {
     "end_time": "2020-11-21T19:40:51.349070Z",
     "start_time": "2020-11-21T19:40:51.345314Z"
    },
    "id": "-HIcqr_ler9a"
   },
   "outputs": [],
   "source": [
    "import matplotlib.pyplot as plt\n",
    "\n",
    "def plot_history(history):\n",
    "    pd.DataFrame(history.history)[['loss', 'val_loss']].plot()\n",
    "    plt.grid(True)\n",
    "    plt.show()"
   ]
  },
  {
   "cell_type": "code",
   "execution_count": 97,
   "metadata": {
    "ExecuteTime": {
     "end_time": "2020-11-21T19:40:51.828184Z",
     "start_time": "2020-11-21T19:40:51.647742Z"
    },
    "id": "Ba_BZx2Rer9a"
   },
   "outputs": [
    {
     "data": {
      "image/png": "[encoded data removed]",
      "text/plain": [
       "<Figure size 432x288 with 1 Axes>"
      ]
     },
     "metadata": {
      "needs_background": "light"
     },
     "output_type": "display_data"
    }
   ],
   "source": [
    "plot_history(reddit_history)"
   ]
  },
  {
   "cell_type": "code",
   "execution_count": 98,
   "metadata": {
    "id": "ECXdM-Bwer9a"
   },
   "outputs": [],
   "source": [
    "import tensorflow as tf\n",
    "from sklearn.metrics import classification_report\n",
    "def transform_model_output_to_prediction(output):\n",
    "  probabilities = tf.nn.softmax(output, axis=1).numpy()\n",
    "  predictions = np.argmax(probabilities, axis=1)\n",
    "  return predictions\n",
    "\n"
   ]
  },
  {
   "cell_type": "code",
   "execution_count": 99,
   "metadata": {
    "id": "FPDxdz3KkQM5"
   },
   "outputs": [
    {
     "name": "stdout",
     "output_type": "stream",
     "text": [
      "              precision    recall  f1-score   support\n",
      "\n",
      "           0       0.75      0.67      0.71       791\n",
      "           1       0.87      0.89      0.88      1333\n",
      "           2       0.84      0.87      0.86      1591\n",
      "\n",
      "    accuracy                           0.84      3715\n",
      "   macro avg       0.82      0.81      0.82      3715\n",
      "weighted avg       0.83      0.84      0.83      3715\n",
      "\n"
     ]
    }
   ],
   "source": [
    "y_pred = transform_model_output_to_prediction(reddit_model.predict(reddit_test_dl))\n",
    "print(classification_report(y_test_reddit, y_pred))"
   ]
  },
  {
   "cell_type": "markdown",
   "metadata": {},
   "source": [
    "#### 2nd try - Increased the embedding size\n",
    "- The first thing that I notice when the embedding size is increased was that the model ran slower.\n",
    "- Then the result metrics (on test data) get better result. \n",
    "- The embedding size is the output dimension of the Keras Embedding Layer, which is the size of the vector space in which words will be embedded. It defines the size of the output vectors from this layer for each word.\n",
    "- The embedding dimensions will determine how much you will compress / intentionally bottleneck the lexical information; larger dimensionality will allow your model to distinguish more lexical detail which is good if and only if your supervised data has enough information to use that lexical detail properly, but if it's not there, then the extra lexical information will overfit and a smaller embedding dimensionality will generalize better."
   ]
  },
  {
   "cell_type": "code",
   "execution_count": 102,
   "metadata": {},
   "outputs": [
    {
     "name": "stdout",
     "output_type": "stream",
     "text": [
      "Model: \"sequential_2\"\n",
      "_________________________________________________________________\n",
      "Layer (type)                 Output Shape              Param #   \n",
      "=================================================================\n",
      "embedding_2 (Embedding)      (None, 100, 300)          14445900  \n",
      "_________________________________________________________________\n",
      "lstm_2 (LSTM)                (None, 100)               160400    \n",
      "_________________________________________________________________\n",
      "dense_2 (Dense)              (None, 3)                 303       \n",
      "=================================================================\n",
      "Total params: 14,606,603\n",
      "Trainable params: 14,606,603\n",
      "Non-trainable params: 0\n",
      "_________________________________________________________________\n",
      "None\n",
      "Epoch 1/20\n",
      "30/30 [==============================] - 23s 738ms/step - loss: 1.0088 - accuracy: 0.5276 - val_loss: 0.8432 - val_accuracy: 0.6035\n",
      "\n",
      "Epoch 00001: val_loss did not improve from 0.48769\n",
      "Epoch 2/20\n",
      "30/30 [==============================] - 24s 793ms/step - loss: 0.7572 - accuracy: 0.6620 - val_loss: 0.6586 - val_accuracy: 0.7553\n",
      "\n",
      "Epoch 00002: val_loss did not improve from 0.48769\n",
      "Epoch 3/20\n",
      "30/30 [==============================] - 24s 785ms/step - loss: 0.4001 - accuracy: 0.8553 - val_loss: 0.5236 - val_accuracy: 0.8089\n",
      "\n",
      "Epoch 00003: val_loss did not improve from 0.48769\n",
      "Epoch 4/20\n",
      "30/30 [==============================] - 23s 764ms/step - loss: 0.1969 - accuracy: 0.9362 - val_loss: 0.4480 - val_accuracy: 0.8536\n",
      "\n",
      "Epoch 00004: val_loss improved from 0.48769 to 0.44799, saving model to best_weights_reddit.hdf5\n",
      "Epoch 5/20\n",
      "30/30 [==============================] - 23s 762ms/step - loss: 0.1025 - accuracy: 0.9730 - val_loss: 0.4841 - val_accuracy: 0.8568\n",
      "\n",
      "Epoch 00005: val_loss did not improve from 0.44799\n",
      "Epoch 6/20\n",
      "30/30 [==============================] - 24s 798ms/step - loss: 0.0848 - accuracy: 0.9786 - val_loss: 0.5336 - val_accuracy: 0.8555\n",
      "\n",
      "Epoch 00006: val_loss did not improve from 0.44799\n",
      "Epoch 7/20\n",
      "30/30 [==============================] - 25s 848ms/step - loss: 0.0566 - accuracy: 0.9876 - val_loss: 0.5712 - val_accuracy: 0.8587\n",
      "\n",
      "Epoch 00007: val_loss did not improve from 0.44799\n",
      "Epoch 8/20\n",
      "30/30 [==============================] - 25s 849ms/step - loss: 0.0423 - accuracy: 0.9907 - val_loss: 0.5957 - val_accuracy: 0.8530\n",
      "\n",
      "Epoch 00008: val_loss did not improve from 0.44799\n",
      "Epoch 9/20\n",
      "30/30 [==============================] - 25s 825ms/step - loss: 0.0411 - accuracy: 0.9926 - val_loss: 0.6470 - val_accuracy: 0.8498\n",
      "\n",
      "Epoch 00009: val_loss did not improve from 0.44799\n",
      "Epoch 10/20\n",
      "30/30 [==============================] - 22s 736ms/step - loss: 0.0331 - accuracy: 0.9940 - val_loss: 0.7143 - val_accuracy: 0.8433\n",
      "\n",
      "Epoch 00010: val_loss did not improve from 0.44799\n",
      "Epoch 11/20\n",
      "30/30 [==============================] - 23s 785ms/step - loss: 0.0359 - accuracy: 0.9921 - val_loss: 0.7006 - val_accuracy: 0.8536\n",
      "\n",
      "Epoch 00011: val_loss did not improve from 0.44799\n",
      "Epoch 12/20\n",
      "30/30 [==============================] - 24s 794ms/step - loss: 0.0581 - accuracy: 0.9856 - val_loss: 0.6776 - val_accuracy: 0.8490\n",
      "\n",
      "Epoch 00012: val_loss did not improve from 0.44799\n",
      "Epoch 13/20\n",
      "30/30 [==============================] - 24s 787ms/step - loss: 0.0655 - accuracy: 0.9836 - val_loss: 0.6855 - val_accuracy: 0.8431\n",
      "\n",
      "Epoch 00013: val_loss did not improve from 0.44799\n",
      "Epoch 14/20\n",
      "30/30 [==============================] - 25s 819ms/step - loss: 0.0416 - accuracy: 0.9899 - val_loss: 0.7634 - val_accuracy: 0.8361\n",
      "\n",
      "Epoch 00014: val_loss did not improve from 0.44799\n"
     ]
    },
    {
     "data": {
      "image/png": "[encoded data removed]",
      "text/plain": [
       "<Figure size 432x288 with 1 Axes>"
      ]
     },
     "metadata": {
      "needs_background": "light"
     },
     "output_type": "display_data"
    }
   ],
   "source": [
    "# fix random seed for reproducibility\n",
    "numpy.random.seed(7)\n",
    "\n",
    "# Increased embedding_size from 30 to 300\n",
    "reddit_model, reddit_history = train_model(reddit_train_dl, y_train_reddit, reddit_val_dl, y_val_reddit, \n",
    "                             embedding_size=300, vocabulary_size=reddit_vocabulary_size+OOV_BUCKETS, \n",
    "                             text_length= TEXT_LENGTH, epochs=20, batch_size=1024) \n",
    "\n",
    "\n",
    "reddit_model.load_weights('best_weights_reddit.hdf5')\n",
    "\n",
    "plot_history(reddit_history)"
   ]
  },
  {
   "cell_type": "code",
   "execution_count": 103,
   "metadata": {},
   "outputs": [
    {
     "name": "stdout",
     "output_type": "stream",
     "text": [
      "              precision    recall  f1-score   support\n",
      "\n",
      "           0       0.77      0.74      0.75       791\n",
      "           1       0.91      0.91      0.91      1333\n",
      "           2       0.88      0.89      0.89      1591\n",
      "\n",
      "    accuracy                           0.87      3715\n",
      "   macro avg       0.85      0.85      0.85      3715\n",
      "weighted avg       0.87      0.87      0.87      3715\n",
      "\n"
     ]
    }
   ],
   "source": [
    "y_pred = transform_model_output_to_prediction(reddit_model.predict(reddit_test_dl))\n",
    "print(classification_report(y_test_reddit, y_pred))"
   ]
  },
  {
   "cell_type": "markdown",
   "metadata": {},
   "source": [
    "#### 3rd try - with dropout, batch normalization, and changing the activation functions."
   ]
  },
  {
   "cell_type": "code",
   "execution_count": 110,
   "metadata": {},
   "outputs": [
    {
     "name": "stdout",
     "output_type": "stream",
     "text": [
      "Model: \"sequential_8\"\n",
      "_________________________________________________________________\n",
      "Layer (type)                 Output Shape              Param #   \n",
      "=================================================================\n",
      "embedding_8 (Embedding)      (None, 100, 30)           1444590   \n",
      "_________________________________________________________________\n",
      "lstm_8 (LSTM)                (None, 100)               52400     \n",
      "_________________________________________________________________\n",
      "dense_8 (Dense)              (None, 3)                 303       \n",
      "_________________________________________________________________\n",
      "dropout_3 (Dropout)          (None, 3)                 0         \n",
      "_________________________________________________________________\n",
      "batch_normalization_2 (Batch (None, 3)                 12        \n",
      "=================================================================\n",
      "Total params: 1,497,305\n",
      "Trainable params: 1,497,299\n",
      "Non-trainable params: 6\n",
      "_________________________________________________________________\n",
      "None\n",
      "Epoch 1/20\n",
      "30/30 [==============================] - 13s 391ms/step - loss: 1.9822 - accuracy: 0.3426 - val_loss: 1.0986 - val_accuracy: 0.3556\n",
      "Epoch 2/20\n",
      "30/30 [==============================] - 11s 359ms/step - loss: 1.0986 - accuracy: 0.3499 - val_loss: 1.0986 - val_accuracy: 0.3556\n",
      "Epoch 3/20\n",
      "30/30 [==============================] - 11s 355ms/step - loss: 1.0986 - accuracy: 0.3468 - val_loss: 1.0986 - val_accuracy: 0.3556\n",
      "Epoch 4/20\n",
      "30/30 [==============================] - 11s 371ms/step - loss: 1.0986 - accuracy: 0.3528 - val_loss: 1.0986 - val_accuracy: 0.3556\n",
      "Epoch 5/20\n",
      "30/30 [==============================] - 12s 391ms/step - loss: 1.0986 - accuracy: 0.3507 - val_loss: 1.0986 - val_accuracy: 0.3556\n",
      "Epoch 6/20\n",
      "30/30 [==============================] - 11s 371ms/step - loss: 1.0986 - accuracy: 0.3481 - val_loss: 1.0986 - val_accuracy: 0.3556\n",
      "Epoch 7/20\n",
      "30/30 [==============================] - 12s 384ms/step - loss: 1.0986 - accuracy: 0.3521 - val_loss: 1.0986 - val_accuracy: 0.3556\n",
      "Epoch 8/20\n",
      "30/30 [==============================] - 11s 363ms/step - loss: 1.0986 - accuracy: 0.3471 - val_loss: 1.0986 - val_accuracy: 0.3556\n",
      "Epoch 9/20\n",
      "30/30 [==============================] - 12s 393ms/step - loss: 1.0986 - accuracy: 0.3473 - val_loss: 1.0986 - val_accuracy: 0.3556\n",
      "Epoch 10/20\n",
      "30/30 [==============================] - 11s 366ms/step - loss: 1.0986 - accuracy: 0.3509 - val_loss: 1.0986 - val_accuracy: 0.3556\n",
      "Epoch 11/20\n",
      "30/30 [==============================] - 12s 386ms/step - loss: 1.0986 - accuracy: 0.3517 - val_loss: 1.0986 - val_accuracy: 0.3556\n",
      "Epoch 12/20\n",
      "30/30 [==============================] - 11s 371ms/step - loss: 1.0986 - accuracy: 0.3552 - val_loss: 1.0986 - val_accuracy: 0.3556\n",
      "Epoch 13/20\n",
      "30/30 [==============================] - 11s 352ms/step - loss: 1.0986 - accuracy: 0.3516 - val_loss: 1.0986 - val_accuracy: 0.3556\n",
      "Epoch 14/20\n",
      "30/30 [==============================] - 11s 374ms/step - loss: 1.0986 - accuracy: 0.3458 - val_loss: 1.0986 - val_accuracy: 0.3556\n",
      "Epoch 15/20\n",
      "30/30 [==============================] - 11s 355ms/step - loss: 1.0986 - accuracy: 0.3524 - val_loss: 1.0986 - val_accuracy: 0.3556\n",
      "Epoch 16/20\n",
      "30/30 [==============================] - 11s 368ms/step - loss: 1.0986 - accuracy: 0.3536 - val_loss: 1.0986 - val_accuracy: 0.3556\n",
      "Epoch 17/20\n",
      "30/30 [==============================] - 11s 362ms/step - loss: 1.0986 - accuracy: 0.3498 - val_loss: 1.0986 - val_accuracy: 0.3556\n",
      "Epoch 18/20\n",
      "30/30 [==============================] - 11s 352ms/step - loss: 1.0986 - accuracy: 0.3545 - val_loss: 1.0986 - val_accuracy: 0.3556\n",
      "Epoch 19/20\n",
      "30/30 [==============================] - 11s 354ms/step - loss: 1.0986 - accuracy: 0.3519 - val_loss: 1.0986 - val_accuracy: 0.3556\n",
      "Epoch 20/20\n",
      "30/30 [==============================] - 11s 375ms/step - loss: 1.0986 - accuracy: 0.3485 - val_loss: 1.0986 - val_accuracy: 0.3556\n"
     ]
    },
    {
     "data": {
      "image/png": "[encoded data removed]",
      "text/plain": [
       "<Figure size 432x288 with 1 Axes>"
      ]
     },
     "metadata": {
      "needs_background": "light"
     },
     "output_type": "display_data"
    },
    {
     "name": "stdout",
     "output_type": "stream",
     "text": [
      "              precision    recall  f1-score   support\n",
      "\n",
      "           0       0.00      0.00      0.00       791\n",
      "           1       0.36      1.00      0.53      1333\n",
      "           2       0.00      0.00      0.00      1591\n",
      "\n",
      "    accuracy                           0.36      3715\n",
      "   macro avg       0.12      0.33      0.18      3715\n",
      "weighted avg       0.13      0.36      0.19      3715\n",
      "\n"
     ]
    },
    {
     "name": "stderr",
     "output_type": "stream",
     "text": [
      "/Users/mucongl/anaconda3/lib/python3.8/site-packages/sklearn/metrics/_classification.py:1221: UndefinedMetricWarning: Precision and F-score are ill-defined and being set to 0.0 in labels with no predicted samples. Use `zero_division` parameter to control this behavior.\n",
      "  _warn_prf(average, modifier, msg_start, len(result))\n"
     ]
    }
   ],
   "source": [
    "from keras.layers import *\n",
    "\n",
    "my_callbacks = [\n",
    "    keras.callbacks.EarlyStopping(patience=10),\n",
    "    keras.callbacks.ModelCheckpoint(filepath=\"best_weights_reddit.hdf5\", verbose=1, save_best_only=True),\n",
    "]\n",
    "\n",
    "# fix random seed for reproducibility\n",
    "numpy.random.seed(7)\n",
    "\n",
    "def train_model_extra(X_train, y_train, X_val, y_val, embedding_size, vocabulary_size, text_length, epochs, batch_size):\n",
    "    # edit this part of the code to change the parameters to improve the results.\n",
    "    model = Sequential()\n",
    "    model.add(Embedding(vocabulary_size, embedding_size, input_length=text_length)) \n",
    "    # We create embeddings for each word in our vocabulary\n",
    "    model.add(LSTM(100)) # one layer of LSTM with 100 hidden units\n",
    "    model.add(Dense(3, activation='relu')) # Output softmax for the 3 classes, Negative, Neutral and Positive\n",
    "    model.add(Dropout(0.25))\n",
    "    model.add(BatchNormalization())\n",
    "    model.compile(loss='sparse_categorical_crossentropy', optimizer='adam', metrics=['accuracy'])\n",
    "    print(model.summary())\n",
    "    history = model.fit(X_train, y_train, epochs=epochs, batch_size=batch_size, validation_data=(X_val, y_val))\n",
    "    \n",
    "    return model, history\n",
    "\n",
    "# edit embedding size and batch size to increase accuracy\n",
    "reddit_model, reddit_history = train_model_extra(reddit_train_dl, y_train_reddit, reddit_val_dl, y_val_reddit, \n",
    "                             embedding_size=30, vocabulary_size=reddit_vocabulary_size+OOV_BUCKETS, \n",
    "                             text_length= TEXT_LENGTH, epochs=20, batch_size=1024)\n",
    "\n",
    "\n",
    "# reddit_model.load_weights('best_weights_reddit.hdf5')\n",
    "\n",
    "plot_history(reddit_history)\n",
    "\n",
    "y_pred = transform_model_output_to_prediction(reddit_model.predict(reddit_test_dl))\n",
    "print(classification_report(y_test_reddit, y_pred))"
   ]
  },
  {
   "cell_type": "markdown",
   "metadata": {
    "ExecuteTime": {
     "end_time": "2020-07-14T05:09:07.369060Z",
     "start_time": "2020-07-14T05:09:07.333054Z"
    },
    "id": "P3YaFH5aer9a"
   },
   "source": [
    "## Approach 3: Train a transformer-based model on Twitter data and compare to a pre-trained model"
   ]
  },
  {
   "cell_type": "markdown",
   "metadata": {},
   "source": [
    "#### First, check from existing trained models \n",
    "- To see what I can get without training my own model. \n",
    "- Use the [pipelines from the Hugginface Library](https://huggingface.co/transformers/main_classes/pipelines.html).\n",
    "- Found a model pretrained on Yelp because the default model only had 2 classes, Positive or Negative.\n",
    "- My task has 3 classes, Positive, Neutral and Negative."
   ]
  },
  {
   "cell_type": "code",
   "execution_count": 111,
   "metadata": {
    "ExecuteTime": {
     "end_time": "2020-07-14T05:50:11.570316Z",
     "start_time": "2020-07-14T05:50:11.565107Z"
    },
    "id": "A01Gjddker9a"
   },
   "outputs": [
    {
     "data": {
      "application/vnd.jupyter.widget-view+json": {
       "model_id": "0bad103f566f4a639662672a8c339689",
       "version_major": 2,
       "version_minor": 0
      },
      "text/plain": [
       "HBox(children=(HTML(value='Downloading'), FloatProgress(value=0.0, max=748.0), HTML(value='')))"
      ]
     },
     "metadata": {},
     "output_type": "display_data"
    },
    {
     "name": "stdout",
     "output_type": "stream",
     "text": [
      "\n"
     ]
    },
    {
     "data": {
      "application/vnd.jupyter.widget-view+json": {
       "model_id": "420ac238bc8b4cc4b005d0f1d027dbe3",
       "version_major": 2,
       "version_minor": 0
      },
      "text/plain": [
       "HBox(children=(HTML(value='Downloading'), FloatProgress(value=0.0, max=433527156.0), HTML(value='')))"
      ]
     },
     "metadata": {},
     "output_type": "display_data"
    },
    {
     "name": "stdout",
     "output_type": "stream",
     "text": [
      "\n"
     ]
    },
    {
     "name": "stderr",
     "output_type": "stream",
     "text": [
      "Some layers from the model checkpoint at gilf/english-yelp-sentiment were not used when initializing TFBertModel: ['classifier', 'dropout_37']\n",
      "- This IS expected if you are initializing TFBertModel from the checkpoint of a model trained on another task or with another architecture (e.g. initializing a BertForSequenceClassification model from a BertForPreTraining model).\n",
      "- This IS NOT expected if you are initializing TFBertModel from the checkpoint of a model that you expect to be exactly identical (initializing a BertForSequenceClassification model from a BertForSequenceClassification model).\n",
      "All the layers of TFBertModel were initialized from the model checkpoint at gilf/english-yelp-sentiment.\n",
      "If your task is similar to the task the model of the checkpoint was trained on, you can already use TFBertModel for predictions without further training.\n"
     ]
    },
    {
     "data": {
      "application/vnd.jupyter.widget-view+json": {
       "model_id": "18bdb313321f409ea2ec0cd63fb3f393",
       "version_major": 2,
       "version_minor": 0
      },
      "text/plain": [
       "HBox(children=(HTML(value='Downloading'), FloatProgress(value=0.0, max=213450.0), HTML(value='')))"
      ]
     },
     "metadata": {},
     "output_type": "display_data"
    },
    {
     "name": "stdout",
     "output_type": "stream",
     "text": [
      "\n"
     ]
    },
    {
     "data": {
      "application/vnd.jupyter.widget-view+json": {
       "model_id": "35ddd73451e245dfb42803a2c3461c74",
       "version_major": 2,
       "version_minor": 0
      },
      "text/plain": [
       "HBox(children=(HTML(value='Downloading'), FloatProgress(value=0.0, max=112.0), HTML(value='')))"
      ]
     },
     "metadata": {},
     "output_type": "display_data"
    },
    {
     "name": "stdout",
     "output_type": "stream",
     "text": [
      "\n"
     ]
    },
    {
     "data": {
      "application/vnd.jupyter.widget-view+json": {
       "model_id": "d1282f04053b4d42bd8a2a764e729e42",
       "version_major": 2,
       "version_minor": 0
      },
      "text/plain": [
       "HBox(children=(HTML(value='Downloading'), FloatProgress(value=0.0, max=49.0), HTML(value='')))"
      ]
     },
     "metadata": {},
     "output_type": "display_data"
    },
    {
     "name": "stdout",
     "output_type": "stream",
     "text": [
      "\n"
     ]
    },
    {
     "name": "stderr",
     "output_type": "stream",
     "text": [
      "Some layers from the model checkpoint at gilf/english-yelp-sentiment were not used when initializing TFBertForSequenceClassification: ['dropout_37']\n",
      "- This IS expected if you are initializing TFBertForSequenceClassification from the checkpoint of a model trained on another task or with another architecture (e.g. initializing a BertForSequenceClassification model from a BertForPreTraining model).\n",
      "- This IS NOT expected if you are initializing TFBertForSequenceClassification from the checkpoint of a model that you expect to be exactly identical (initializing a BertForSequenceClassification model from a BertForSequenceClassification model).\n",
      "Some layers of TFBertForSequenceClassification were not initialized from the model checkpoint at gilf/english-yelp-sentiment and are newly initialized: ['dropout_78']\n",
      "You should probably TRAIN this model on a down-stream task to be able to use it for predictions and inference.\n"
     ]
    }
   ],
   "source": [
    "from transformers import pipeline\n",
    "# Yelp sentiment\n",
    "model_name=\"gilf/english-yelp-sentiment\"\n",
    "sentiment_pipeline = pipeline('sentiment-analysis',model=model_name, tokenizer=model_name)"
   ]
  },
  {
   "cell_type": "code",
   "execution_count": 112,
   "metadata": {
    "id": "HuHlzzOumGpf"
   },
   "outputs": [
    {
     "name": "stdout",
     "output_type": "stream",
     "text": [
      "              precision    recall  f1-score   support\n",
      "\n",
      "           0       0.28      0.88      0.43       968\n",
      "           1       0.56      0.21      0.30      1490\n",
      "           2       0.62      0.23      0.34      1808\n",
      "\n",
      "    accuracy                           0.37      4266\n",
      "   macro avg       0.49      0.44      0.36      4266\n",
      "weighted avg       0.52      0.37      0.35      4266\n",
      "\n"
     ]
    }
   ],
   "source": [
    "# Convert the 5 classes from Yelp (1-5 stars) into negative (1,2), neutral(3), and positive (4,5)\n",
    "\n",
    "def convert_prediction_to_number(pred):\n",
    "  preds = {\"LABEL_0\": 0,\n",
    "      \"LABEL_1\" : 0,\n",
    "      \"LABEL_2\" : 1,\n",
    "      \"LABEL_3\" : 2,\n",
    "      \"LABEL_4\" : 2\n",
    "  }\n",
    "  return preds[pred]\n",
    "\n",
    "\n",
    "y_pred = [ convert_prediction_to_number(p['label']) for p in sentiment_pipeline(list(X_test_tweet.values))]\n",
    "\n",
    "print(classification_report(list(y_test_tweet.values), y_pred))\n"
   ]
  },
  {
   "cell_type": "markdown",
   "metadata": {
    "id": "3chBrgJSqEf7"
   },
   "source": [
    "#### 2nd: fine-tune one of the large models to perform the task on Twitter data.\n",
    "- Now I know how good a out-of-the-box algorithm can do (baseline)\n",
    "- Note that it has been trained on a large amount of data\n",
    "\n",
    "Steps taken:\n",
    "- Specify the optimizer to Adam and learning rate to 5e-5\n",
    "- Specify the batch size to 16\n",
    "- Specify the epochs to 2 \n",
    "\n",
    "\n",
    "Result:\n",
    "- The fine-tuned method perform much better with an accuracy of 0.95"
   ]
  },
  {
   "cell_type": "code",
   "execution_count": 113,
   "metadata": {
    "ExecuteTime": {
     "end_time": "2020-11-21T20:23:10.642173Z",
     "start_time": "2020-11-21T20:23:08.472693Z"
    },
    "id": "pXERsztuer9b"
   },
   "outputs": [
    {
     "data": {
      "application/vnd.jupyter.widget-view+json": {
       "model_id": "c51f743c8ab04ee8a547658a7adaee1a",
       "version_major": 2,
       "version_minor": 0
      },
      "text/plain": [
       "HBox(children=(HTML(value='Downloading'), FloatProgress(value=0.0, max=231508.0), HTML(value='')))"
      ]
     },
     "metadata": {},
     "output_type": "display_data"
    },
    {
     "name": "stdout",
     "output_type": "stream",
     "text": [
      "\n"
     ]
    }
   ],
   "source": [
    "from transformers import DistilBertTokenizer, RobertaTokenizer\n",
    "import tensorflow as tf\n",
    "from tqdm import tqdm\n",
    "\n",
    "# Import the distilbert model, which is a smaller version of the powerful models\n",
    "# Can use the roberta model uncomment the commented steps to use the roberta tokenizer\n",
    "# But it is very slow and uses a lot of memory. \n",
    "\n",
    "distil_bert = 'distilbert-base-uncased' # Pick any desired pre-trained model\n",
    "roberta = 'roberta-base'\n",
    "\n",
    "# Defining DistilBERT tokonizer\n",
    "tokenizer = DistilBertTokenizer.from_pretrained(distil_bert, do_lower_case=True, add_special_tokens=True,\n",
    "                                                max_length=100, pad_to_max_length=True)\n",
    "# # Defining RoBERTa tokinizer\n",
    "# tokenizer = RobertaTokenizer.from_pretrained(roberta, do_lower_case=True, add_special_tokens=True,\n",
    "#                                                 max_length=128, pad_to_max_length=True)\n"
   ]
  },
  {
   "cell_type": "code",
   "execution_count": 114,
   "metadata": {
    "ExecuteTime": {
     "end_time": "2020-11-21T20:23:28.500438Z",
     "start_time": "2020-11-21T20:23:10.644364Z"
    },
    "id": "VBzMiK5Oer9b"
   },
   "outputs": [],
   "source": [
    "# Use the tokenizers to transform the raw text into the tokens needed by the model\n",
    "\n",
    "train_encodings = tokenizer(list(X_train_tweet.values),\n",
    "                            truncation=True,\n",
    "                            padding=True)\n",
    "val_encodings = tokenizer(list(X_val_tweet.values),\n",
    "                            truncation=True,\n",
    "                            padding=True)\n"
   ]
  },
  {
   "cell_type": "code",
   "execution_count": 115,
   "metadata": {
    "ExecuteTime": {
     "start_time": "2020-11-21T20:23:09.808Z"
    },
    "id": "NZmUHP1eer9b"
   },
   "outputs": [],
   "source": [
    "# Tensorflow uses datasets to read the tensor data in batches\n",
    "\n",
    "train_dataset = tf.data.Dataset.from_tensor_slices((\n",
    "    dict(train_encodings),\n",
    "    list(y_train_tweet.values)\n",
    "))\n",
    "val_dataset = tf.data.Dataset.from_tensor_slices((\n",
    "    dict(val_encodings),\n",
    "    list(y_val_tweet.values)\n",
    "))\n",
    "\n"
   ]
  },
  {
   "cell_type": "code",
   "execution_count": 118,
   "metadata": {
    "ExecuteTime": {
     "start_time": "2020-11-21T20:23:10.483Z"
    },
    "id": "mEMSkgYker9b"
   },
   "outputs": [
    {
     "name": "stderr",
     "output_type": "stream",
     "text": [
      "Some layers from the model checkpoint at distilbert-base-uncased were not used when initializing TFDistilBertForSequenceClassification: ['vocab_projector', 'activation_13', 'vocab_layer_norm', 'vocab_transform']\n",
      "- This IS expected if you are initializing TFDistilBertForSequenceClassification from the checkpoint of a model trained on another task or with another architecture (e.g. initializing a BertForSequenceClassification model from a BertForPreTraining model).\n",
      "- This IS NOT expected if you are initializing TFDistilBertForSequenceClassification from the checkpoint of a model that you expect to be exactly identical (initializing a BertForSequenceClassification model from a BertForSequenceClassification model).\n",
      "Some layers of TFDistilBertForSequenceClassification were not initialized from the model checkpoint at distilbert-base-uncased and are newly initialized: ['classifier', 'dropout_118', 'pre_classifier']\n",
      "You should probably TRAIN this model on a down-stream task to be able to use it for predictions and inference.\n"
     ]
    },
    {
     "name": "stdout",
     "output_type": "stream",
     "text": [
      "Epoch 1/2\n",
      "2133/2133 [==============================] - 3228s 2s/step - loss: 0.5176 - accuracy: 0.7914 - val_loss: 0.1675 - val_accuracy: 0.9444\n",
      "\n",
      "Epoch 00001: val_loss improved from inf to 0.16751, saving model to best_weights_twitter.hdf5\n",
      "Epoch 2/2\n",
      "2133/2133 [==============================] - 3222s 2s/step - loss: 0.1548 - accuracy: 0.9520 - val_loss: 0.1573 - val_accuracy: 0.9548\n",
      "\n",
      "Epoch 00002: val_loss improved from 0.16751 to 0.15729, saving model to best_weights_twitter.hdf5\n"
     ]
    }
   ],
   "source": [
    "from transformers import TFDistilBertForSequenceClassification, DistilBertConfig\n",
    "import tensorflow as tf\n",
    "\n",
    "# Change this if to use roberta\n",
    "distil_bert = 'distilbert-base-uncased'\n",
    "\n",
    "# Initialize a pre-trained model with the configuration for predicting 3classes\n",
    "config = DistilBertConfig(num_labels=3)\n",
    "model = TFDistilBertForSequenceClassification.from_pretrained(distil_bert, config=config)\n",
    "\n",
    "my_callbacks = [\n",
    "    keras.callbacks.ModelCheckpoint(filepath=\"best_weights_twitter.hdf5\", verbose=1, save_best_only=True),\n",
    "]\n",
    "\n",
    "# Initialized with the parameters from the pretrained model\n",
    "# Can increase the number of epochs to improve\n",
    "optimizer = tf.keras.optimizers.Adam(learning_rate=5e-5)\n",
    "model.compile(optimizer=optimizer, loss=model.compute_loss, metrics=['accuracy'])\n",
    "batch_size = 16\n",
    "tweet_history = model.fit(train_dataset.shuffle(100).batch(batch_size),\n",
    "          epochs=2,\n",
    "          batch_size=batch_size,\n",
    "          validation_data=val_dataset.batch(batch_size),\n",
    "          callbacks=my_callbacks)\n"
   ]
  },
  {
   "cell_type": "code",
   "execution_count": 119,
   "metadata": {
    "id": "AkxGw3YuMioC"
   },
   "outputs": [
    {
     "data": {
      "image/png": "[encoded data removed]",
      "text/plain": [
       "<Figure size 432x288 with 1 Axes>"
      ]
     },
     "metadata": {
      "needs_background": "light"
     },
     "output_type": "display_data"
    }
   ],
   "source": [
    "plot_history(tweet_history)"
   ]
  },
  {
   "cell_type": "markdown",
   "metadata": {
    "id": "Wze3L3aWMQim"
   },
   "source": [
    "#### 3rd: make the prediction on the test data and print the classification report."
   ]
  },
  {
   "cell_type": "code",
   "execution_count": 123,
   "metadata": {
    "id": "6V528gAaer9b"
   },
   "outputs": [],
   "source": [
    "model.load_weights('best_weights_twitter.hdf5')\n",
    "predict_input = dict(tokenizer(list(X_test_tweet.values),\n",
    "                                 truncation=True,\n",
    "                                 padding=True,\n",
    "                                 return_tensors=\"tf\"))['input_ids']"
   ]
  },
  {
   "cell_type": "code",
   "execution_count": 124,
   "metadata": {
    "id": "193HfChUu5hc"
   },
   "outputs": [],
   "source": [
    "tf_output = model.predict(predict_input)\n",
    "\n",
    "tf_prediction = tf.nn.softmax(tf_output[0], axis=1).numpy()\n"
   ]
  },
  {
   "cell_type": "code",
   "execution_count": 125,
   "metadata": {
    "id": "IgDGNCD1vJVy"
   },
   "outputs": [
    {
     "name": "stdout",
     "output_type": "stream",
     "text": [
      "              precision    recall  f1-score   support\n",
      "\n",
      "           0       0.90      0.93      0.92       968\n",
      "           1       0.99      0.96      0.97      1490\n",
      "           2       0.95      0.96      0.96      1808\n",
      "\n",
      "    accuracy                           0.95      4266\n",
      "   macro avg       0.95      0.95      0.95      4266\n",
      "weighted avg       0.95      0.95      0.95      4266\n",
      "\n"
     ]
    }
   ],
   "source": [
    "y_pred = transform_model_output_to_prediction(model.predict(predict_input)[0])\n",
    "\n",
    "print(classification_report(list(y_test_tweet.values),y_pred))"
   ]
  },
  {
   "cell_type": "markdown",
   "metadata": {},
   "source": [
    "## Conclusion: \n",
    "### Which situations to use, the count-based, the LSTM, the out-of-the-box, and the fine-tuned model?\n",
    "- **Count-based**: for situation where the count of appearance of words can be a strong indicator of sentiment. For example, on Twitter, many people post similar contents on the same topic. If a certain topic has a strong emotion and sentiment associated with it, more people are going to discuss it. Thus, the count of appearance of words can be a strong indicator or the sentiment.\n",
    "- **LSTM**: the typical use cases for LSTM are music generation, text generation, and stock prediction\n",
    "- **Out-of-the-box**: when the application of the analysis is similar to the one that is used to train the pre-trained model\n",
    "- **Fine-tuned**: when the out-of-the-box model gets a decent baseline score, and the analytical situation is similar so that fine-tuning would result in a great increase of performance"
   ]
  }
 ],
 "metadata": {
  "accelerator": "GPU",
  "colab": {
   "collapsed_sections": [],
   "name": "Homework 4 - Images and Text.ipynb",
   "provenance": []
  },
  "kernelspec": {
   "display_name": "Python 3",
   "language": "python",
   "name": "python3"
  },
  "language_info": {
   "codemirror_mode": {
    "name": "ipython",
    "version": 3
   },
   "file_extension": ".py",
   "mimetype": "text/x-python",
   "name": "python",
   "nbconvert_exporter": "python",
   "pygments_lexer": "ipython3",
   "version": "3.8.5"
  }
 },
 "nbformat": 4,
 "nbformat_minor": 1
}
